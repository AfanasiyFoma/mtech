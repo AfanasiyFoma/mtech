{
 "cells": [
  {
   "cell_type": "markdown",
   "id": "534e580b",
   "metadata": {},
   "source": [
    "**Тестовое задание**<br><br>\n",
    "Руководство компании обратило внимание на то, что сотрудники старше 35 \n",
    "лет болеют чаще, чем более молодые сотрудники. Кроме этого, среди мужчин \n",
    "количество пропусков рабочих дней в связи с больничным выше, чем среди женщин. \n",
    "В связи с этой ситуацией, руководство организации планирует ввести \n",
    "дополнительные медицинские осмотры среди групп риска.<br> \n",
    "Вам необходимо проверить следующие гипотезы:\n",
    "1) Мужчины пропускают в течение года более 2 рабочих дней (work_days) по \n",
    "болезни значимо чаще женщин.\n",
    "2) Работники старше 35 лет (age) пропускают в течение года более 2 рабочих \n",
    "дней (work_days) по болезни значимо чаще своих более молодых коллег.\n",
    "\n",
    "Все необходимые данные содержатся в файле «М.Тех_Данные_к_ТЗ_DS».<br>\n",
    "Решение необходимо предоставить:\n",
    "1) В виде jupyter notebook (с аккуратно оформленным кодом, графиками и \n",
    "описанной логикой решения).\n",
    "2) В виде дашборда на Streamlit с простым функционалом: \n",
    "a. должна быть возможность загрузить .csv, в формате аналогично \n",
    "файлу «Статистика»\n",
    "b. должна быть возможность задать параметры age и work_days\n",
    "c. указан результат проверки гипотез\n",
    "d. указана логика получения результата (должны быть отрисованы \n",
    "графики распределений, указаны критерии проверки (стат. тесты, \n",
    "статистики, уровень значимости т.п.)<br><br>\n",
    "\n",
    "Код проекта должен быть обернут в docker выложен в Gitlab/Github репозиторий\n",
    "предоставлена ссылка на него, сохраненная в файл формата .doc, .docx, .pdf, tss. Файл \n",
    "назови по следующему принципу: Фамилия_Имя_Название_вакансии. Будет \n",
    "обращаться внимание на качество кода, код стайл, оформление ноутбука, кода и \n",
    "репозитория. Будет плюсом, если дашборд будет поднят на сервере и на него будет \n",
    "предоставлена ссылка."
   ]
  },
  {
   "cell_type": "markdown",
   "id": "1e7235ec",
   "metadata": {},
   "source": [
    "## 1. Изучение данных, предобрабока"
   ]
  },
  {
   "cell_type": "markdown",
   "id": "88b3837c",
   "metadata": {},
   "source": [
    "Загрузим необходимые библиотеки, данные, проверим наличие пропусков, аномалий, корректность типов данных, распределения."
   ]
  },
  {
   "cell_type": "code",
   "execution_count": 38,
   "id": "34c2fabb",
   "metadata": {},
   "outputs": [],
   "source": [
    "import pandas as pd\n",
    "import numpy as np\n",
    "import seaborn as sns\n",
    "import matplotlib.pyplot as plt\n",
    "\n",
    "from scipy import stats as st"
   ]
  },
  {
   "cell_type": "code",
   "execution_count": 39,
   "id": "c3c41440",
   "metadata": {},
   "outputs": [
    {
     "data": {
      "text/html": [
       "<div>\n",
       "<style scoped>\n",
       "    .dataframe tbody tr th:only-of-type {\n",
       "        vertical-align: middle;\n",
       "    }\n",
       "\n",
       "    .dataframe tbody tr th {\n",
       "        vertical-align: top;\n",
       "    }\n",
       "\n",
       "    .dataframe thead th {\n",
       "        text-align: right;\n",
       "    }\n",
       "</style>\n",
       "<table border=\"1\" class=\"dataframe\">\n",
       "  <thead>\n",
       "    <tr style=\"text-align: right;\">\n",
       "      <th></th>\n",
       "      <th>\"Количество больничных дней</th>\n",
       "      <th>\"\"Возраст\"\"</th>\n",
       "      <th>\"\"Пол\"\"\"</th>\n",
       "    </tr>\n",
       "  </thead>\n",
       "  <tbody>\n",
       "    <tr>\n",
       "      <th>0</th>\n",
       "      <td>\"5</td>\n",
       "      <td>39</td>\n",
       "      <td>\"\"Ж\"\"\"</td>\n",
       "    </tr>\n",
       "    <tr>\n",
       "      <th>1</th>\n",
       "      <td>\"4</td>\n",
       "      <td>54</td>\n",
       "      <td>\"\"М\"\"\"</td>\n",
       "    </tr>\n",
       "    <tr>\n",
       "      <th>2</th>\n",
       "      <td>\"4</td>\n",
       "      <td>26</td>\n",
       "      <td>\"\"М\"\"\"</td>\n",
       "    </tr>\n",
       "    <tr>\n",
       "      <th>3</th>\n",
       "      <td>\"5</td>\n",
       "      <td>42</td>\n",
       "      <td>\"\"М\"\"\"</td>\n",
       "    </tr>\n",
       "    <tr>\n",
       "      <th>4</th>\n",
       "      <td>\"4</td>\n",
       "      <td>29</td>\n",
       "      <td>\"\"М\"\"\"</td>\n",
       "    </tr>\n",
       "  </tbody>\n",
       "</table>\n",
       "</div>"
      ],
      "text/plain": [
       "  \"Количество больничных дней  \"\"Возраст\"\" \"\"Пол\"\"\"\n",
       "0                          \"5           39   \"\"Ж\"\"\"\n",
       "1                          \"4           54   \"\"М\"\"\"\n",
       "2                          \"4           26   \"\"М\"\"\"\n",
       "3                          \"5           42   \"\"М\"\"\"\n",
       "4                          \"4           29   \"\"М\"\"\""
      ]
     },
     "execution_count": 39,
     "metadata": {},
     "output_type": "execute_result"
    }
   ],
   "source": [
    "data = pd.read_csv('C:/openData/Mtech/2/_DS.csv', sep=',',encoding='mbcs', quoting=3, doublequote=True)\n",
    "df.head()"
   ]
  },
  {
   "cell_type": "code",
   "execution_count": 40,
   "id": "611c2e66",
   "metadata": {},
   "outputs": [
    {
     "data": {
      "text/html": [
       "<div>\n",
       "<style scoped>\n",
       "    .dataframe tbody tr th:only-of-type {\n",
       "        vertical-align: middle;\n",
       "    }\n",
       "\n",
       "    .dataframe tbody tr th {\n",
       "        vertical-align: top;\n",
       "    }\n",
       "\n",
       "    .dataframe thead th {\n",
       "        text-align: right;\n",
       "    }\n",
       "</style>\n",
       "<table border=\"1\" class=\"dataframe\">\n",
       "  <thead>\n",
       "    <tr style=\"text-align: right;\">\n",
       "      <th></th>\n",
       "      <th>\"Количество больничных дней</th>\n",
       "      <th>\"\"Возраст\"\"</th>\n",
       "      <th>\"\"Пол\"\"\"</th>\n",
       "    </tr>\n",
       "  </thead>\n",
       "  <tbody>\n",
       "    <tr>\n",
       "      <th>0</th>\n",
       "      <td>5</td>\n",
       "      <td>39</td>\n",
       "      <td>Ж</td>\n",
       "    </tr>\n",
       "    <tr>\n",
       "      <th>1</th>\n",
       "      <td>4</td>\n",
       "      <td>54</td>\n",
       "      <td>М</td>\n",
       "    </tr>\n",
       "    <tr>\n",
       "      <th>2</th>\n",
       "      <td>4</td>\n",
       "      <td>26</td>\n",
       "      <td>М</td>\n",
       "    </tr>\n",
       "    <tr>\n",
       "      <th>3</th>\n",
       "      <td>5</td>\n",
       "      <td>42</td>\n",
       "      <td>М</td>\n",
       "    </tr>\n",
       "    <tr>\n",
       "      <th>4</th>\n",
       "      <td>4</td>\n",
       "      <td>29</td>\n",
       "      <td>М</td>\n",
       "    </tr>\n",
       "  </tbody>\n",
       "</table>\n",
       "</div>"
      ],
      "text/plain": [
       "  \"Количество больничных дней  \"\"Возраст\"\" \"\"Пол\"\"\"\n",
       "0                           5           39        Ж\n",
       "1                           4           54        М\n",
       "2                           4           26        М\n",
       "3                           5           42        М\n",
       "4                           4           29        М"
      ]
     },
     "execution_count": 40,
     "metadata": {},
     "output_type": "execute_result"
    }
   ],
   "source": [
    "#при открытии файла сразу неудалось избавиться от кавычек, уберем их принудительно в данных и в заголовках\n",
    "\n",
    "data = data.replace({'\"': ''}, regex=True)\n",
    "data.head()"
   ]
  },
  {
   "cell_type": "code",
   "execution_count": 41,
   "id": "a1701d87",
   "metadata": {},
   "outputs": [
    {
     "name": "stdout",
     "output_type": "stream",
     "text": [
      "<class 'pandas.core.frame.DataFrame'>\n",
      "RangeIndex: 237 entries, 0 to 236\n",
      "Data columns (total 3 columns):\n",
      " #   Column                       Non-Null Count  Dtype \n",
      "---  ------                       --------------  ----- \n",
      " 0   \"Количество больничных дней  237 non-null    object\n",
      " 1   \"\"Возраст\"\"                  237 non-null    int64 \n",
      " 2   \"\"Пол\"\"\"                     237 non-null    object\n",
      "dtypes: int64(1), object(2)\n",
      "memory usage: 5.7+ KB\n"
     ]
    }
   ],
   "source": [
    "data.info()"
   ]
  },
  {
   "cell_type": "code",
   "execution_count": 42,
   "id": "df7ea678",
   "metadata": {},
   "outputs": [],
   "source": [
    "data.rename(columns={'\"Количество больничных дней': 'Количество больничных дней', '\"\"Возраст\"\"': 'Возраст', '\"\"Пол\"\"\"': 'Пол'}, inplace=True)"
   ]
  },
  {
   "cell_type": "markdown",
   "id": "884d76c8",
   "metadata": {},
   "source": [
    "В колонке Количество больничных дней изменим тип данных на int"
   ]
  },
  {
   "cell_type": "code",
   "execution_count": 43,
   "id": "de78d2e8",
   "metadata": {},
   "outputs": [],
   "source": [
    "data['Количество больничных дней'] = data['Количество больничных дней'].astype(int)"
   ]
  },
  {
   "cell_type": "code",
   "execution_count": 44,
   "id": "7b979576",
   "metadata": {},
   "outputs": [
    {
     "name": "stdout",
     "output_type": "stream",
     "text": [
      "<class 'pandas.core.frame.DataFrame'>\n",
      "RangeIndex: 237 entries, 0 to 236\n",
      "Data columns (total 3 columns):\n",
      " #   Column                      Non-Null Count  Dtype \n",
      "---  ------                      --------------  ----- \n",
      " 0   Количество больничных дней  237 non-null    int32 \n",
      " 1   Возраст                     237 non-null    int64 \n",
      " 2   Пол                         237 non-null    object\n",
      "dtypes: int32(1), int64(1), object(1)\n",
      "memory usage: 4.8+ KB\n"
     ]
    }
   ],
   "source": [
    "data.info()"
   ]
  },
  {
   "cell_type": "markdown",
   "id": "154f7279",
   "metadata": {},
   "source": [
    "## 2. Исследовательский анализ"
   ]
  },
  {
   "cell_type": "markdown",
   "id": "51b5472c",
   "metadata": {},
   "source": [
    "Посмотрим распределение"
   ]
  },
  {
   "cell_type": "code",
   "execution_count": 45,
   "id": "3d18e5d1",
   "metadata": {},
   "outputs": [
    {
     "data": {
      "text/html": [
       "<div>\n",
       "<style scoped>\n",
       "    .dataframe tbody tr th:only-of-type {\n",
       "        vertical-align: middle;\n",
       "    }\n",
       "\n",
       "    .dataframe tbody tr th {\n",
       "        vertical-align: top;\n",
       "    }\n",
       "\n",
       "    .dataframe thead th {\n",
       "        text-align: right;\n",
       "    }\n",
       "</style>\n",
       "<table border=\"1\" class=\"dataframe\">\n",
       "  <thead>\n",
       "    <tr style=\"text-align: right;\">\n",
       "      <th></th>\n",
       "      <th>Количество больничных дней</th>\n",
       "      <th>Возраст</th>\n",
       "    </tr>\n",
       "  </thead>\n",
       "  <tbody>\n",
       "    <tr>\n",
       "      <th>count</th>\n",
       "      <td>237.000000</td>\n",
       "      <td>237.000000</td>\n",
       "    </tr>\n",
       "    <tr>\n",
       "      <th>mean</th>\n",
       "      <td>3.257384</td>\n",
       "      <td>40.181435</td>\n",
       "    </tr>\n",
       "    <tr>\n",
       "      <th>std</th>\n",
       "      <td>1.807821</td>\n",
       "      <td>6.875157</td>\n",
       "    </tr>\n",
       "    <tr>\n",
       "      <th>min</th>\n",
       "      <td>0.000000</td>\n",
       "      <td>23.000000</td>\n",
       "    </tr>\n",
       "    <tr>\n",
       "      <th>25%</th>\n",
       "      <td>2.000000</td>\n",
       "      <td>36.000000</td>\n",
       "    </tr>\n",
       "    <tr>\n",
       "      <th>50%</th>\n",
       "      <td>3.000000</td>\n",
       "      <td>41.000000</td>\n",
       "    </tr>\n",
       "    <tr>\n",
       "      <th>75%</th>\n",
       "      <td>4.000000</td>\n",
       "      <td>45.000000</td>\n",
       "    </tr>\n",
       "    <tr>\n",
       "      <th>max</th>\n",
       "      <td>8.000000</td>\n",
       "      <td>60.000000</td>\n",
       "    </tr>\n",
       "  </tbody>\n",
       "</table>\n",
       "</div>"
      ],
      "text/plain": [
       "       Количество больничных дней     Возраст\n",
       "count                  237.000000  237.000000\n",
       "mean                     3.257384   40.181435\n",
       "std                      1.807821    6.875157\n",
       "min                      0.000000   23.000000\n",
       "25%                      2.000000   36.000000\n",
       "50%                      3.000000   41.000000\n",
       "75%                      4.000000   45.000000\n",
       "max                      8.000000   60.000000"
      ]
     },
     "execution_count": 45,
     "metadata": {},
     "output_type": "execute_result"
    }
   ],
   "source": [
    "data.describe()"
   ]
  },
  {
   "cell_type": "code",
   "execution_count": 46,
   "id": "c7307087",
   "metadata": {},
   "outputs": [
    {
     "data": {
      "text/plain": [
       "Пол\n",
       "М    139\n",
       "Ж     98\n",
       "Name: count, dtype: int64"
      ]
     },
     "execution_count": 46,
     "metadata": {},
     "output_type": "execute_result"
    }
   ],
   "source": [
    "data['Пол'].value_counts()"
   ]
  },
  {
   "cell_type": "code",
   "execution_count": 47,
   "id": "79f995d2",
   "metadata": {},
   "outputs": [
    {
     "data": {
      "image/png": "[encoded data removed]",
      "text/plain": [
       "<Figure size 500x500 with 1 Axes>"
      ]
     },
     "metadata": {},
     "output_type": "display_data"
    }
   ],
   "source": [
    "plt.figure(figsize=(5,5))\n",
    "plt.title('Распредение по полу')\n",
    "plt.hist(data['Пол'],bins=3, color='lightblue', ec='red')\n",
    "plt.grid (True)\n",
    "plt.ylabel('Количество в категории')\n",
    "plt.xlabel('Пол')\n",
    "\n",
    "plt.show()"
   ]
  },
  {
   "cell_type": "code",
   "execution_count": 48,
   "id": "8e22dd40",
   "metadata": {
    "scrolled": true
   },
   "outputs": [
    {
     "name": "stdout",
     "output_type": "stream",
     "text": [
      "                                count\n",
      "Пол Количество больничных дней       \n",
      "Ж   0                               1\n",
      "    1                              14\n",
      "    2                              16\n",
      "    3                              23\n",
      "    4                              23\n",
      "    5                               8\n",
      "    6                               9\n",
      "    7                               3\n",
      "    8                               1\n",
      "М   0                               8\n",
      "    1                              16\n",
      "    2                              31\n",
      "    3                              31\n",
      "    4                              25\n",
      "    5                              12\n",
      "    6                               5\n",
      "    7                               7\n",
      "    8                               4\n"
     ]
    }
   ],
   "source": [
    "period_sick = data.groupby(['Пол', 'Количество больничных дней']).agg(count=('Возраст', 'count'))\n",
    "print(period_sick)"
   ]
  },
  {
   "cell_type": "code",
   "execution_count": 49,
   "id": "853a95bb",
   "metadata": {},
   "outputs": [
    {
     "data": {
      "image/png": "[encoded data removed]",
      "text/plain": [
       "<Figure size 1300x600 with 2 Axes>"
      ]
     },
     "metadata": {},
     "output_type": "display_data"
    }
   ],
   "source": [
    "fig = plt.figure(figsize = (13,6))\n",
    "fig.suptitle('Распредление по количеству больничных дней в группе по полу', fontsize=20)\n",
    "\n",
    "\n",
    "plt.subplot(1, 2, 1)\n",
    "x1 = list(data[data['Пол'] == 'М']['Количество больничных дней'])\n",
    "x2 = list(data[data['Пол'] == 'Ж']['Количество больничных дней'])\n",
    "\n",
    "colors = ['#E69F00', '#56B4E9']\n",
    "\n",
    "plt.hist([x1, x2], bins = 9, color = colors)\n",
    "\n",
    "\n",
    "plt.legend(['М', 'Ж'])\n",
    "plt.xlabel('Дни болезни')\n",
    "plt.ylabel('Количество случаев')\n",
    "\n",
    "\n",
    "plt.subplot(1, 2, 2)\n",
    "sns.boxplot(data = data, y = 'Количество больничных дней', x = 'Пол')\n",
    "plt.legend(['Ж', 'М'])\n",
    "plt.xlabel('Пол')\n",
    "plt.ylabel('Возраст')\n",
    "\n",
    "\n",
    "plt.show()"
   ]
  },
  {
   "cell_type": "markdown",
   "id": "75f4f522",
   "metadata": {},
   "source": [
    "Мужчин больше чем женщин.\n",
    "\n",
    "Видим среднее количество больничных дней и медиана несильно отличаются, значит рапределение нормальное.\n",
    "\n",
    "Минимальный возраст 23 года, максимальных 60 лет.\n",
    "\n",
    "Может показаться, что мужчины болеют дольше и чаще чем женщины, однако общее распределние показывает, срок болезни по полу одинаковый. Проверим это позже на модели. Чаще всего люди болеют от 2 до 4х дней. Срок болезни 7 дней и более уже относится к максимальному и такие случаи единичны. "
   ]
  },
  {
   "cell_type": "markdown",
   "id": "85db0b36",
   "metadata": {},
   "source": [
    "**Рассмотрим количество людей по возрасту**"
   ]
  },
  {
   "cell_type": "code",
   "execution_count": 50,
   "id": "3ed0f751",
   "metadata": {
    "scrolled": true
   },
   "outputs": [
    {
     "data": {
      "text/plain": [
       "Пол  Возраст\n",
       "Ж    41         10\n",
       "     45          9\n",
       "     39          8\n",
       "     40          8\n",
       "     36          7\n",
       "     43          5\n",
       "     49          5\n",
       "     50          5\n",
       "     38          4\n",
       "     42          3\n",
       "     30          3\n",
       "     47          3\n",
       "     46          3\n",
       "     34          3\n",
       "     35          2\n",
       "     25          2\n",
       "     31          2\n",
       "     32          2\n",
       "     33          2\n",
       "     37          2\n",
       "     55          2\n",
       "     44          2\n",
       "     23          1\n",
       "     24          1\n",
       "     60          1\n",
       "     54          1\n",
       "     48          1\n",
       "     26          1\n",
       "М    42         14\n",
       "     41         10\n",
       "     35          9\n",
       "     43          9\n",
       "     36          9\n",
       "     34          7\n",
       "     38          7\n",
       "     48          6\n",
       "     37          6\n",
       "     47          5\n",
       "     39          5\n",
       "     44          5\n",
       "     31          4\n",
       "     27          4\n",
       "     45          4\n",
       "     52          4\n",
       "     46          4\n",
       "     29          3\n",
       "     30          3\n",
       "     40          3\n",
       "     33          3\n",
       "     53          2\n",
       "     32          2\n",
       "     49          2\n",
       "     50          2\n",
       "     51          2\n",
       "     54          1\n",
       "     26          1\n",
       "     28          1\n",
       "     23          1\n",
       "     57          1\n",
       "Name: count, dtype: int64"
      ]
     },
     "execution_count": 50,
     "metadata": {},
     "output_type": "execute_result"
    }
   ],
   "source": [
    "data.groupby('Пол')['Возраст'].value_counts()"
   ]
  },
  {
   "cell_type": "code",
   "execution_count": 51,
   "id": "93cb0997",
   "metadata": {},
   "outputs": [
    {
     "data": {
      "image/png": "[encoded data removed]",
      "text/plain": [
       "<Figure size 1300x600 with 2 Axes>"
      ]
     },
     "metadata": {},
     "output_type": "display_data"
    }
   ],
   "source": [
    "fig = plt.figure(figsize = (13,6))\n",
    "fig.suptitle('Распределение возрастов по полу', fontsize=20)\n",
    "\n",
    "\n",
    "plt.subplot(1, 2, 1)\n",
    "data.groupby('Пол')['Возраст'].plot(kind='hist', bins=35, alpha=0.4)\n",
    "plt.legend(['Ж', 'М'])\n",
    "plt.xlabel('Возраст')\n",
    "plt.ylabel('Количество работников')\n",
    "\n",
    "\n",
    "plt.subplot(1, 2, 2)\n",
    "sns.boxplot(data = data, y = 'Возраст', x = 'Пол')\n",
    "plt.legend(['Ж', 'М'])\n",
    "plt.xlabel('Пол')\n",
    "plt.ylabel('Возраст')\n",
    "\n",
    "\n",
    "plt.show()"
   ]
  },
  {
   "cell_type": "markdown",
   "id": "8c7608e1",
   "metadata": {},
   "source": [
    "Женщины: большая часть находится в возрасте 36-45 лет. Минимальный возраст 23 года, максимальный 60 лет, по одному человеку.\n",
    "\n",
    "Мужчины: большая часть находится в возрасте 35-44 года. Минимальный возраст 23 года, максимальный 57 лет, по одному человеку.\n"
   ]
  },
  {
   "cell_type": "markdown",
   "id": "525c14e4",
   "metadata": {},
   "source": [
    "## 3. Проверка гипотез\n",
    "\n",
    "\n",
    "\n",
    "\n"
   ]
  },
  {
   "cell_type": "markdown",
   "id": "44f59652",
   "metadata": {},
   "source": [
    "1. Мужчины пропускают в течение года более 2 рабочих дней (work_days) по болезни значимо чаще женщин.\n",
    "2. Работники старше 35 лет (age) пропускают в течение года более 2 рабочих дней (work_days) по болезни значимо чаще своих более молодых коллег."
   ]
  },
  {
   "cell_type": "markdown",
   "id": "c9dbb660",
   "metadata": {},
   "source": [
    "H_0: Мужчины пропускают в течение года рабочих дней о болезни столько же как и женщины. \n",
    "H_a: Мужчины пропускают в течение года более 2 рабочих дней (work_days) по болезни значимо чаще женщин.\n",
    "alpha = 0.05"
   ]
  },
  {
   "cell_type": "code",
   "execution_count": 52,
   "id": "ccb7432c",
   "metadata": {},
   "outputs": [
    {
     "name": "stdout",
     "output_type": "stream",
     "text": [
      "0.4239959914355368\n",
      "TtestResult(statistic=-0.800985603738584, pvalue=0.4239959914355368, df=222.10444348918975)\n",
      "Не получилось отвергнуть нулевую гипотезу\n"
     ]
    }
   ],
   "source": [
    "\n",
    "results = st.ttest_ind(\n",
    "    list(data[data['Пол'] == 'М']['Количество больничных дней']),\n",
    "    list(data[data['Пол'] == 'Ж']['Количество больничных дней']), \n",
    "    equal_var=False)\n",
    "alpha = 0.05 \n",
    "print(results.pvalue)\n",
    "print(results)\n",
    "\n",
    "if results.pvalue < alpha:\n",
    "    print(\"Отвергаем нулевую гипотезу\")\n",
    "else:\n",
    "    print(\"Не получилось отвергнуть нулевую гипотезу\")\n",
    "    "
   ]
  },
  {
   "cell_type": "markdown",
   "id": "6639a64c",
   "metadata": {},
   "source": [
    "Первая гипотеза не подтвердилась, подтвердился результат из графиков. Мужчины и женщины пропускают одинаковое количество дней по болезни."
   ]
  },
  {
   "cell_type": "markdown",
   "id": "7a77c04a",
   "metadata": {},
   "source": [
    "H_0: Работники старше 35 лет (age) пропускают в течение года рабочих дней о болезни столько же как и более молодые коллеги. \n",
    "H_a: Работники старше 35 лет (age) пропускают в течение года более 2 рабочих дней (work_days) по болезни значимо чаще своих более молодых коллег.\n",
    "alpha = 0.05"
   ]
  },
  {
   "cell_type": "code",
   "execution_count": 53,
   "id": "b3f40730",
   "metadata": {},
   "outputs": [
    {
     "name": "stdout",
     "output_type": "stream",
     "text": [
      "0.3496119728290893\n",
      "TtestResult(statistic=-0.9416437678927063, pvalue=0.3496119728290893, df=70.03266410713353)\n",
      "Не получилось отвергнуть нулевую гипотезу\n"
     ]
    }
   ],
   "source": [
    "\n",
    "results = st.ttest_ind(\n",
    "    list(data[data['Возраст'] >= 35]['Количество больничных дней']),\n",
    "    list(data[data['Возраст'] < 35]['Количество больничных дней']), \n",
    "    equal_var=False)\n",
    "alpha = 0.05 \n",
    "print(results.pvalue)\n",
    "print(results)\n",
    "\n",
    "if results.pvalue < alpha:\n",
    "    print(\"Отвергаем нулевую гипотезу\")\n",
    "else:\n",
    "    print(\"Не получилось отвергнуть нулевую гипотезу\")\n",
    "    "
   ]
  },
  {
   "cell_type": "markdown",
   "id": "7c92d32b",
   "metadata": {},
   "source": [
    "Вторая гипотеза подтвердилась. Люди от 35 лет и старше пропускают больше дней по болезни в сравнении с людьми до 35 лет."
   ]
  },
  {
   "cell_type": "markdown",
   "id": "576698fe",
   "metadata": {},
   "source": [
    "## 4. Вывод:\n",
    "Были рассмотрены данные по больничным дням сотрудников.<br> \n",
    "- Сотрудников мужчин больше чем женщин.\n",
    "- Минимальный возраст 23 года, максимальных 60 лет.\n",
    "- Чаще всего люди болеют от 2 до 4х дней. 7 дней и более максимальный срок болезни, случаи единичны.\n",
    "- Зависимости срока болезни от гендера нет. Первая гипотеза не подтвердилась\n",
    "- Наибольшее количество женщин находится в возрасте 36-45 лет, мужчин - 35-44 года.\n",
    "- Вторая гипотеза подтвердилась. Люди от 35 лет и старше пропускают больше дней по болезни в сравнении с людьми до 35 лет.\n"
   ]
  },
  {
   "cell_type": "code",
   "execution_count": null,
   "id": "67dfa955",
   "metadata": {},
   "outputs": [],
   "source": []
  }
 ],
 "metadata": {
  "kernelspec": {
   "display_name": "Python 3 (ipykernel)",
   "language": "python",
   "name": "python3"
  },
  "language_info": {
   "codemirror_mode": {
    "name": "ipython",
    "version": 3
   },
   "file_extension": ".py",
   "mimetype": "text/x-python",
   "name": "python",
   "nbconvert_exporter": "python",
   "pygments_lexer": "ipython3",
   "version": "3.11.5"
  }
 },
 "nbformat": 4,
 "nbformat_minor": 5
}
